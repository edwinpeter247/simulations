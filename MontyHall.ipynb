{
 "metadata": {
  "language_info": {
   "codemirror_mode": {
    "name": "ipython",
    "version": 3
   },
   "file_extension": ".py",
   "mimetype": "text/x-python",
   "name": "python",
   "nbconvert_exporter": "python",
   "pygments_lexer": "ipython3",
   "version": "3.9.0-final"
  },
  "orig_nbformat": 2,
  "kernelspec": {
   "name": "python3",
   "display_name": "Python 3.9.0 64-bit",
   "metadata": {
    "interpreter": {
     "hash": "7812ea015bdcee6f23a998adcdd2ef97c151c0c241b7b7070987d9313e41299d"
    }
   }
  }
 },
 "nbformat": 4,
 "nbformat_minor": 2,
 "cells": [
  {
   "cell_type": "code",
   "execution_count": 2,
   "metadata": {},
   "outputs": [],
   "source": [
    "import random as rand\n",
    "from copy import deepcopy"
   ]
  },
  {
   "cell_type": "code",
   "execution_count": 3,
   "metadata": {
    "tags": []
   },
   "outputs": [
    {
     "output_type": "stream",
     "name": "stdout",
     "text": [
      "Winning rate for Switch is 0.68\nWinning rate for Stay is 0.33\n"
     ]
    }
   ],
   "source": [
    "def start_game(strategy:str, trials:int=10000):\n",
    "    \"\"\"\n",
    "    strategy: String\n",
    "        Accepted inputs are: \"Switch\" or \"Stay\"\n",
    "    trials: Integer\n",
    "        Number of times to run simulation\n",
    "    \"\"\"\n",
    "    strategy_win_rate = 0\n",
    "    DOORS = [1,2,3]\n",
    "    for trial in range(trials):\n",
    "        ## print(\"Starting Game\")\n",
    "        # Initialise winning door\n",
    "        WINNING_DOOR = rand.randint(1,3)\n",
    "        ## print(f\"Winning door is: {WINNING_DOOR}\")\n",
    "        \n",
    "        # Initialise random choice of contestant to 1 door\n",
    "        contestant_choice = rand.choice(DOORS)\n",
    "        ## print(f\"Contestant chooses: {contestant_choice}\")\n",
    "\n",
    "        # Game Master offers 1 door that is not the winning door to swap\n",
    "        REMAINING_DOORS = deepcopy(DOORS)\n",
    "        REMAINING_DOORS.remove(contestant_choice)\n",
    "\n",
    "        # If door selected by contestant is winning door, randomly remove either one of the other\n",
    "        # Else, remove other door that is not the winning door\n",
    "        door_to_remove = rand.choice(REMAINING_DOORS) if WINNING_DOOR not in REMAINING_DOORS else int([door for door in REMAINING_DOORS if door != WINNING_DOOR][0])\n",
    "        ## print(f\"Game Master removed: {door_to_remove}\")\n",
    "        # Door untouched refers to the door that is not removed and is not the contestant's initial choice\n",
    "        # This door allows for the contestant to switch to\n",
    "        door_untouched = int([door for door in REMAINING_DOORS if door != door_to_remove][0])\n",
    "\n",
    "        # Initialise game plan\n",
    "        ## print(f\"Game Plan: {strategy}\")\n",
    "        if strategy == \"Switch\":\n",
    "            ## print(f\"Contestant choiced changed from {contestant_choice} to {door_untouched}\")\n",
    "            contestant_choice = door_untouched\n",
    "        if contestant_choice == WINNING_DOOR:\n",
    "            ## print(\"Contestant Won!\")\n",
    "            strategy_win_rate += 1\n",
    "    print(f\"Winning rate for {strategy} is {(strategy_win_rate/trials):.2f}\")\n",
    "\n",
    "    \n",
    "start_game(\"Switch\", 10000)\n",
    "start_game(\"Stay\", 10000)"
   ]
  }
 ]
}